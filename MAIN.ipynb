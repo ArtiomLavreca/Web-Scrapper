{
 "cells": [
  {
   "cell_type": "markdown",
   "id": "ed8cc9bd",
   "metadata": {},
   "source": [
    "Libraries and Modules"
   ]
  },
  {
   "cell_type": "code",
   "execution_count": null,
   "id": "5f870b93",
   "metadata": {},
   "outputs": [],
   "source": [
    "from libra import *\n",
    "#from Functions import *"
   ]
  },
  {
   "cell_type": "markdown",
   "id": "d6c12c67",
   "metadata": {},
   "source": [
    "\n",
    "Open local host chrome"
   ]
  },
  {
   "cell_type": "markdown",
   "id": "dc53daea",
   "metadata": {},
   "source": [
    "\n",
    "Render the website"
   ]
  },
  {
   "cell_type": "code",
   "execution_count": 44,
   "id": "59f9c223",
   "metadata": {},
   "outputs": [],
   "source": [
    "service = Service(executable_path='chromedriver.exe')\n",
    "browser = webdriver.Chrome(service=service)\n",
    "base_url = 'https://999.md/ro/list/real-estate/apartments-and-rooms?view_type=short&appl=1&ef=16,6,2307,2200&eo=13859,12885,12900,12912&o_16_1=776&o_32_8_12900=13859'\n",
    "browser.get(base_url)"
   ]
  },
  {
   "cell_type": "markdown",
   "id": "ae4071bc",
   "metadata": {},
   "source": [
    "Functions "
   ]
  },
  {
   "cell_type": "markdown",
   "id": "fc42b2ff",
   "metadata": {},
   "source": [
    "Gets the page index"
   ]
  },
  {
   "cell_type": "code",
   "execution_count": null,
   "id": "1697eecd",
   "metadata": {},
   "outputs": [],
   "source": [
    "def pageIndex(link):\n",
    "    if 'page=' in link:\n",
    "        pagenumberindex = link[link.index('page='):].replace('page=','')\n",
    "    else:\n",
    "        pagenumberindex = 1\n",
    "\n",
    "    return pagenumberindex  "
   ]
  },
  {
   "cell_type": "markdown",
   "id": "17b7eed1",
   "metadata": {},
   "source": [
    "Gets the link to the last page "
   ]
  },
  {
   "cell_type": "code",
   "execution_count": 45,
   "id": "ea04b139",
   "metadata": {},
   "outputs": [],
   "source": [
    "def lastPageIndex():\n",
    "    global browser\n",
    "\n",
    "    lastpage = browser.find_element(By.CLASS_NAME,'Pagination_pagination__container__buttons__wrapper__icon__last__page__84ROu')\n",
    "    lastpage.click()\n",
    "    #print(browser.current_url)\n",
    "    link_lastpage = browser.current_url\n",
    "    return pageIndex(link_lastpage)"
   ]
  },
  {
   "cell_type": "markdown",
   "id": "a9eb4d61",
   "metadata": {},
   "source": [
    "Gets the link to the first page"
   ]
  },
  {
   "cell_type": "code",
   "execution_count": null,
   "id": "e374df9f",
   "metadata": {},
   "outputs": [],
   "source": [
    "def firstPageIndex():\n",
    "    global browser\n",
    "\n",
    "    firstpage = browser.find_element(By.CLASS_NAME,'Pagination_pagination__container__buttons__wrapper__icon__first__page__GYuK2')\n",
    "    firstpage.click()\n",
    "    #print(browser.current_url)\n",
    "    link_firstpage = browser.current_url\n",
    "    return pageIndex(link_firstpage)"
   ]
  },
  {
   "cell_type": "markdown",
   "id": "3a05418c",
   "metadata": {},
   "source": [
    "Extracts links from the block of offers and save them into .csv file with the index of the processed page"
   ]
  },
  {
   "cell_type": "markdown",
   "id": "171e2817",
   "metadata": {},
   "source": [
    "оооо"
   ]
  },
  {
   "cell_type": "code",
   "execution_count": 36,
   "id": "71f9f4c3",
   "metadata": {},
   "outputs": [],
   "source": [
    "def pageLinksExtractor(link):\n",
    "\n",
    "    global browser\n",
    "    page = browser.current_url\n",
    "    \n",
    "    adsblock = browser.find_element(By.XPATH,'/html/body/div[2]/div/div/div[2]/div/div[2]')\n",
    "    adlist = adsblock.find_elements(By.CLASS_NAME,'AdShort_wrapper__S8kqq')\n",
    "    data = {}\n",
    "    adid = 0\n",
    "    for ad in adlist:\n",
    "        adlink = ad.find_element(By.CSS_SELECTOR, \"a.AdShort_title__link__EnVP9\").get_attribute(\"href\") \n",
    "        adData = adlink\n",
    "        data.update({adid : adData})\n",
    "        adid = adid + 1\n",
    "        \n",
    "    file_path = f\"links pages/page{pageIndex(link)}.csv\"\n",
    "\n",
    "    with open(file_path, mode=\"w\", encoding=\"utf-8\", newline=\"\") as f:\n",
    "        writer = csv.writer(f)\n",
    "        writer.writerow(['links'])\n",
    "\n",
    "        for link in data.values():\n",
    "            writer.writerow([link])"
   ]
  },
  {
   "cell_type": "markdown",
   "id": "3ea101e2",
   "metadata": {},
   "source": [
    "Goes to the next page"
   ]
  },
  {
   "cell_type": "code",
   "execution_count": null,
   "id": "3eec9970",
   "metadata": {},
   "outputs": [],
   "source": [
    "def nextPageclick():\n",
    "    global browser\n",
    "\n",
    "    button_next = browser.find_element(By.CLASS_NAME,'Pagination_pagination__container__buttons__wrapper__icon__next__A22Rc')\n",
    "    button_next.click()"
   ]
  },
  {
   "cell_type": "markdown",
   "id": "a9dc4313",
   "metadata": {},
   "source": [
    "Goes backwards"
   ]
  },
  {
   "cell_type": "code",
   "execution_count": null,
   "id": "ad8fe28b",
   "metadata": {},
   "outputs": [],
   "source": [
    "def backPageclick():    \n",
    "    global browser\n",
    "    \n",
    "    button_back = browser.find_element(By.CLASS_NAME,'Pagination_pagination__container__buttons__wrapper__icon__previous__njSYV')\n",
    "    button_back.click()\n"
   ]
  }
 ],
 "metadata": {
  "kernelspec": {
   "display_name": "base",
   "language": "python",
   "name": "python3"
  },
  "language_info": {
   "codemirror_mode": {
    "name": "ipython",
    "version": 3
   },
   "file_extension": ".py",
   "mimetype": "text/x-python",
   "name": "python",
   "nbconvert_exporter": "python",
   "pygments_lexer": "ipython3",
   "version": "3.12.7"
  }
 },
 "nbformat": 4,
 "nbformat_minor": 5
}
