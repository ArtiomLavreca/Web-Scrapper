{
 "cells": [
  {
   "cell_type": "markdown",
   "id": "ed8cc9bd",
   "metadata": {},
   "source": [
    "Libraries and Modules"
   ]
  },
  {
   "cell_type": "code",
   "execution_count": 21,
   "id": "5f870b93",
   "metadata": {},
   "outputs": [],
   "source": [
    "from libra import *\n",
    "import time \n",
    "import pandas as pd"
   ]
  },
  {
   "cell_type": "markdown",
   "id": "d6c12c67",
   "metadata": {},
   "source": [
    "\n",
    "Open local host chrome"
   ]
  },
  {
   "cell_type": "markdown",
   "id": "dc53daea",
   "metadata": {},
   "source": [
    "\n",
    "Render the website"
   ]
  },
  {
   "cell_type": "code",
   "execution_count": 52,
   "id": "59f9c223",
   "metadata": {},
   "outputs": [],
   "source": [
    "service = Service(executable_path='chromedriver.exe')\n",
    "browser = webdriver.Chrome(service=service)\n",
    "base_url = 'https://999.md/ro/list/real-estate/apartments-and-rooms?view_type=short&appl=1&ef=16,6,2307,2200&eo=13859,12885,12900,12912&o_16_1=776&o_32_8_12900=13859'\n",
    "browser.get(base_url)"
   ]
  },
  {
   "cell_type": "markdown",
   "id": "b0694561",
   "metadata": {},
   "source": [
    "---"
   ]
  },
  {
   "cell_type": "markdown",
   "id": "ae4071bc",
   "metadata": {},
   "source": [
    "Functions "
   ]
  },
  {
   "cell_type": "markdown",
   "id": "fc42b2ff",
   "metadata": {},
   "source": [
    "Gets the page index"
   ]
  },
  {
   "cell_type": "code",
   "execution_count": 23,
   "id": "1697eecd",
   "metadata": {},
   "outputs": [],
   "source": [
    "def pageIndex(link):\n",
    "    if 'page=' in link:\n",
    "        pagenumberindex = link[link.index('page='):].replace('page=','')\n",
    "    else:\n",
    "        pagenumberindex = 1\n",
    "    \n",
    "    \n",
    "    return int(pagenumberindex)  "
   ]
  },
  {
   "cell_type": "markdown",
   "id": "17b7eed1",
   "metadata": {},
   "source": [
    "Gets the link to the last page "
   ]
  },
  {
   "cell_type": "code",
   "execution_count": null,
   "id": "a08cce14",
   "metadata": {},
   "outputs": [],
   "source": []
  },
  {
   "cell_type": "code",
   "execution_count": 46,
   "id": "ea04b139",
   "metadata": {},
   "outputs": [],
   "source": [
    "\n",
    "def lastPageIndex():\n",
    "    global browser,time,lastPage_index\n",
    "\n",
    "    lastpage = browser.find_element(By.CLASS_NAME,'Pagination_pagination__container__buttons__wrapper__icon__last__page__84ROu')\n",
    "    lastpage.click()\n",
    "    #print(browser.current_url)\n",
    "    link_lastpage = browser.current_url\n",
    "    time.sleep(1.5)\n",
    "    browser.get('https://999.md/ro/list/real-estate/apartments-and-rooms?view_type=short&appl=1&ef=16,6,2307,2200&eo=13859,12885,12900,12912&o_16_1=776&o_32_8_12900=13859')\n",
    "    \n",
    "    lastPage_index = pageIndex(link_lastpage)\n",
    "    return lastPage_index"
   ]
  },
  {
   "cell_type": "markdown",
   "id": "a9eb4d61",
   "metadata": {},
   "source": [
    "Gets the link to the first page"
   ]
  },
  {
   "cell_type": "code",
   "execution_count": null,
   "id": "e374df9f",
   "metadata": {},
   "outputs": [],
   "source": [
    "def firstPageIndex():\n",
    "    global browser,time\n",
    "\n",
    "    firstpage = browser.find_element(By.CLASS_NAME,'Pagination_pagination__container__buttons__wrapper__icon__first__page__GYuK2')\n",
    "    firstpage.click()\n",
    "    #print(browser.current_url)\n",
    "    link_firstpage = browser.current_url\n",
    "    lastPage_index = pageIndex(link_firstpage)\n",
    "    return lastPage_index"
   ]
  },
  {
   "cell_type": "code",
   "execution_count": null,
   "id": "cf953aea",
   "metadata": {},
   "outputs": [],
   "source": []
  },
  {
   "cell_type": "markdown",
   "id": "3a05418c",
   "metadata": {},
   "source": [
    "Extracts links from the block of offers and save them into .csv file with the index of the processed page"
   ]
  },
  {
   "cell_type": "markdown",
   "id": "171e2817",
   "metadata": {},
   "source": [
    "оооо"
   ]
  },
  {
   "cell_type": "code",
   "execution_count": null,
   "id": "f370e0dc",
   "metadata": {},
   "outputs": [],
   "source": [
    "def readingFile():\n",
    "    pass"
   ]
  },
  {
   "cell_type": "code",
   "execution_count": null,
   "id": "2dd7aeb3",
   "metadata": {},
   "outputs": [],
   "source": [
    "def modifyFile():\n",
    "    pass"
   ]
  },
  {
   "cell_type": "code",
   "execution_count": 41,
   "id": "71f9f4c3",
   "metadata": {},
   "outputs": [],
   "source": [
    "def pageLinksExtractor(link):\n",
    "\n",
    "    global browser\n",
    "    page = browser.current_url\n",
    "    \n",
    "    adsblock = browser.find_element(By.XPATH,'/html/body/div[2]/div/div/div[2]/div/div[2]')\n",
    "    adlist = adsblock.find_elements(By.CLASS_NAME,'AdShort_wrapper__S8kqq')\n",
    "    #data = {}\n",
    "    #adid = 0\n",
    "    '''for ad in adlist:\n",
    "        if adlink not in data:\n",
    "            data.update({adid : adlink})\n",
    "        else:\n",
    "            break    \n",
    "        adid = adid + 1'''\n",
    "        \n",
    "    file_path = \"links.csv\"\n",
    "\n",
    "    with open(file_path, mode=\"a+\", encoding=\"utf-8\", newline=\"\") as f:\n",
    "        writer = csv.writer(f)\n",
    "        \n",
    "\n",
    "        for ad in adlist:\n",
    "            adlink = ad.find_element(By.CSS_SELECTOR, \"a.AdShort_title__link__EnVP9\").get_attribute(\"href\") \n",
    "            if adlink not in f:\n",
    "                writer.writerow([adlink])\n",
    "                \n",
    "            else: \n",
    "                break\n",
    "                return True    "
   ]
  },
  {
   "cell_type": "code",
   "execution_count": null,
   "id": "c75f3aab",
   "metadata": {},
   "outputs": [
    {
     "name": "stdout",
     "output_type": "stream",
     "text": [
      "False\n"
     ]
    }
   ],
   "source": []
  },
  {
   "cell_type": "code",
   "execution_count": 57,
   "id": "bc14eccd",
   "metadata": {},
   "outputs": [],
   "source": [
    "pageLinksExtractor(browser.current_url)"
   ]
  },
  {
   "cell_type": "markdown",
   "id": "3ea101e2",
   "metadata": {},
   "source": [
    "Goes to the next page"
   ]
  },
  {
   "cell_type": "code",
   "execution_count": 28,
   "id": "3eec9970",
   "metadata": {},
   "outputs": [],
   "source": [
    "def nextPageclick():\n",
    "    global browser\n",
    "\n",
    "    button_next = browser.find_element(By.CLASS_NAME,'Pagination_pagination__container__buttons__wrapper__icon__next__A22Rc')\n",
    "    button_next.click()"
   ]
  },
  {
   "cell_type": "markdown",
   "id": "a9dc4313",
   "metadata": {},
   "source": [
    "Goes backwards"
   ]
  },
  {
   "cell_type": "code",
   "execution_count": 8,
   "id": "ad8fe28b",
   "metadata": {},
   "outputs": [],
   "source": [
    "def backPageclick():    \n",
    "    global browser\n",
    "    \n",
    "    button_back = browser.find_element(By.CLASS_NAME,'Pagination_pagination__container__buttons__wrapper__icon__previous__njSYV')\n",
    "    button_back.click()\n"
   ]
  },
  {
   "cell_type": "markdown",
   "id": "79b3ed13",
   "metadata": {},
   "source": [
    "-----"
   ]
  },
  {
   "cell_type": "code",
   "execution_count": 9,
   "id": "0ed9f193",
   "metadata": {},
   "outputs": [],
   "source": [
    "#gotolinkpage = browser.find_element(By.CLASS_NAME,'AdShort_title__krp9R')\n",
    "#gotolinkpage.click()"
   ]
  },
  {
   "cell_type": "code",
   "execution_count": 9,
   "id": "d99c667b",
   "metadata": {},
   "outputs": [],
   "source": [
    "def getPageData():\n",
    "    global browser\n",
    "\n",
    "    dataUpdateraw = browser.find_element(By.CLASS_NAME,'styles_date__voWnk').text.replace('Data actualizării: ','')\n",
    "    #dataUpdate = dataUpdateraw[dataUpdateraw.index(': '):].replace(': ','')\n",
    "    adUpdate = dataUpdateraw.split(',')[0]\n",
    "    adUpdatetime = dataUpdateraw.split(',')[1].replace(' ','')\n",
    "\n",
    "    adType = browser.find_element(By.CLASS_NAME,'styles_type___J9Dy').text.replace('Tipul: ','')\n",
    "\n",
    "    adprice_euro = browser.find_element(By.CLASS_NAME,'styles_sidebar__main__DaXQC').text\n",
    "    adprice_dollar = browser.find_element(By.XPATH,'/html/body/div[2]/section/section/aside/div[1]/div[3]/div/ul/li[1]').text\n",
    "    adprice_mdl = browser.find_element(By.XPATH,'/html/body/div[2]/section/section/aside/div[1]/div[3]/div/ul/li[2]').text\n",
    "\n",
    "    ad_address = browser.find_element(By.CLASS_NAME,'styles_address__alp5x').text.replace('Regiunea: ','')\n",
    "\n",
    "    ad_author = browser.find_element(By.XPATH,'/html/body/div[2]/section/section/div/div[3]/div[1]/div/ul/li[1]/span[2]').text\n",
    "\n",
    "    ad_roomsNumber = browser.find_element(By.XPATH,'/html/body/div[2]/section/section/div/div[3]/div[1]/div/ul/li[2]/span[2]').text\n",
    "\n",
    "    ad_surface = browser.find_element(By.XPATH,'/html/body/div[2]/section/section/div/div[3]/div[1]/div/ul/li[3]/span[2]').text\n",
    "\n",
    "    ad_fondLocativ = browser.find_element(By.XPATH,'/html/body/div[2]/section/section/div/div[3]/div[1]/div/ul/li[4]/span[2]').text\n",
    "\n",
    "    ad_floorNumber = browser.find_element(By.XPATH,'/html/body/div[2]/section/section/div/div[3]/div[1]/div/ul/li[5]/span[2]').text\n",
    "\n",
    "    ad_TotalFloorNr = browser.find_element(By.XPATH,'/html/body/div[2]/section/section/div/div[3]/div[1]/div/ul/li[6]/span[2]').text\n",
    "\n",
    "    ad_buildingType = browser.find_element(By.XPATH,'/html/body/div[2]/section/section/div/div[3]/div[1]/div/ul/li[7]/span[2]').text\n",
    "\n",
    "    ad_floorStatus = browser.find_element(By.XPATH,'/html/body/div[2]/section/section/div/div[3]/div[1]/div/ul/li[8]/span[2]').text\n",
    "\n",
    "    ad_compartimentare = browser.find_element(By.XPATH,'/html/body/div[2]/section/section/div/div[3]/div[1]/div/ul/li[9]/span[2]').text\n",
    "\n",
    "    show_number = browser.find_element(By.XPATH,'/html/body/div[2]/section/section/div/footer/div[3]/div[2]/button')\n",
    "    show_number.click()\n",
    "\n",
    "    ad_contact = browser.find_element(By.CLASS_NAME,'styles_number__koOQS').get_attribute('href').replace('tel:','')\n",
    "\n",
    "    ad_url = browser.current_url\n",
    "\n",
    "    data2 = {\n",
    "    'update' : adUpdate,\n",
    "    'time': adUpdatetime,\n",
    "    'link' : ad_url,\n",
    "    'type' : adType,\n",
    "    'priceEuro' : adprice_euro,\n",
    "    'priceDollar' : adprice_dollar.replace('≈ ',''),\n",
    "    'priceMDL' : adprice_mdl.replace('≈ ',''),\n",
    "    'address' : ad_address,\n",
    "\n",
    "    'author' : ad_author,\n",
    "    'Number of Rooms' : ad_roomsNumber,\n",
    "    'Surface' : ad_surface,\n",
    "    'Fond Locativ' : ad_fondLocativ,\n",
    "    'Etaj' : ad_floorNumber,\n",
    "    'Numar de etaje' : ad_TotalFloorNr,\n",
    "    'Tipe cladire' : ad_buildingType,\n",
    "    'Starea Apartamentului' : ad_floorStatus,\n",
    "    'Compartimentare' : ad_compartimentare,\n",
    "    'Contact' : ad_contact\n",
    "\n",
    "    }\n",
    "    return data2"
   ]
  },
  {
   "cell_type": "code",
   "execution_count": 11,
   "id": "cf8948a2",
   "metadata": {},
   "outputs": [],
   "source": [
    "#getPageData()"
   ]
  },
  {
   "cell_type": "code",
   "execution_count": 12,
   "id": "6d6c9b40",
   "metadata": {},
   "outputs": [],
   "source": [
    "#lastPageIndex()"
   ]
  },
  {
   "cell_type": "code",
   "execution_count": 13,
   "id": "88ee6046",
   "metadata": {},
   "outputs": [],
   "source": [
    "#firstPageIndex()"
   ]
  },
  {
   "cell_type": "code",
   "execution_count": null,
   "id": "14c5c73e",
   "metadata": {},
   "outputs": [
    {
     "name": "stdout",
     "output_type": "stream",
     "text": [
      "1 / 221\n",
      "2 / 221\n",
      "3 / 221\n",
      "4 / 221\n",
      "5 / 221\n",
      "6 / 221\n",
      "7 / 221\n",
      "8 / 221\n",
      "9 / 221\n",
      "10 / 221\n",
      "11 / 221\n",
      "12 / 221\n",
      "13 / 221\n",
      "14 / 221\n",
      "15 / 221\n",
      "16 / 221\n",
      "17 / 221\n",
      "18 / 221\n",
      "19 / 221\n",
      "20 / 221\n",
      "21 / 221\n",
      "22 / 221\n",
      "23 / 221\n",
      "24 / 221\n",
      "25 / 221\n",
      "26 / 221\n",
      "27 / 221\n",
      "28 / 221\n",
      "29 / 221\n",
      "30 / 221\n",
      "31 / 221\n",
      "32 / 221\n",
      "33 / 221\n",
      "34 / 221\n",
      "35 / 221\n",
      "36 / 221\n",
      "37 / 221\n",
      "38 / 221\n",
      "39 / 221\n",
      "40 / 221\n",
      "41 / 221\n",
      "42 / 221\n",
      "43 / 221\n",
      "44 / 221\n",
      "45 / 221\n",
      "46 / 221\n",
      "47 / 221\n",
      "48 / 221\n",
      "49 / 221\n",
      "50 / 221\n",
      "51 / 221\n",
      "52 / 221\n",
      "53 / 221\n",
      "54 / 221\n",
      "55 / 221\n",
      "56 / 221\n",
      "57 / 221\n",
      "58 / 221\n",
      "59 / 221\n",
      "60 / 221\n",
      "61 / 221\n",
      "62 / 221\n",
      "63 / 221\n",
      "64 / 221\n",
      "65 / 221\n",
      "66 / 221\n",
      "67 / 221\n",
      "68 / 221\n",
      "69 / 221\n",
      "70 / 221\n",
      "71 / 221\n",
      "72 / 221\n",
      "73 / 221\n",
      "74 / 221\n",
      "75 / 221\n",
      "76 / 221\n",
      "77 / 221\n",
      "78 / 221\n",
      "79 / 221\n",
      "80 / 221\n",
      "81 / 221\n",
      "82 / 221\n",
      "83 / 221\n",
      "84 / 221\n",
      "85 / 221\n",
      "86 / 221\n",
      "87 / 221\n",
      "88 / 221\n",
      "89 / 221\n",
      "90 / 221\n",
      "91 / 221\n",
      "92 / 221\n",
      "93 / 221\n",
      "94 / 221\n",
      "95 / 221\n",
      "96 / 221\n",
      "97 / 221\n",
      "98 / 221\n",
      "99 / 221\n",
      "100 / 221\n",
      "101 / 221\n",
      "102 / 221\n",
      "103 / 221\n",
      "104 / 221\n",
      "105 / 221\n",
      "106 / 221\n",
      "107 / 221\n",
      "108 / 221\n",
      "109 / 221\n",
      "110 / 221\n",
      "111 / 221\n",
      "112 / 221\n",
      "113 / 221\n",
      "114 / 221\n",
      "115 / 221\n",
      "116 / 221\n",
      "117 / 221\n",
      "118 / 221\n",
      "119 / 221\n",
      "120 / 221\n",
      "121 / 221\n",
      "122 / 221\n",
      "123 / 221\n",
      "124 / 221\n",
      "125 / 221\n",
      "126 / 221\n",
      "127 / 221\n",
      "128 / 221\n",
      "129 / 221\n",
      "130 / 221\n",
      "131 / 221\n",
      "132 / 221\n",
      "133 / 221\n",
      "134 / 221\n",
      "135 / 221\n",
      "136 / 221\n",
      "137 / 221\n",
      "138 / 221\n",
      "139 / 221\n",
      "140 / 221\n",
      "141 / 221\n",
      "142 / 221\n",
      "143 / 221\n",
      "144 / 221\n",
      "145 / 221\n",
      "146 / 221\n",
      "147 / 221\n",
      "148 / 221\n",
      "149 / 221\n",
      "150 / 221\n",
      "151 / 221\n",
      "152 / 221\n",
      "153 / 221\n",
      "154 / 221\n",
      "155 / 221\n",
      "156 / 221\n",
      "157 / 221\n",
      "158 / 221\n",
      "159 / 221\n",
      "160 / 221\n",
      "161 / 221\n",
      "162 / 221\n",
      "163 / 221\n",
      "164 / 221\n",
      "165 / 221\n",
      "166 / 221\n",
      "167 / 221\n",
      "168 / 221\n",
      "169 / 221\n",
      "170 / 221\n",
      "171 / 221\n",
      "172 / 221\n",
      "173 / 221\n",
      "174 / 221\n",
      "175 / 221\n",
      "176 / 221\n",
      "177 / 221\n",
      "178 / 221\n",
      "179 / 221\n",
      "180 / 221\n",
      "181 / 221\n",
      "182 / 221\n",
      "183 / 221\n",
      "184 / 221\n",
      "185 / 221\n",
      "186 / 221\n",
      "187 / 221\n",
      "188 / 221\n",
      "189 / 221\n",
      "190 / 221\n",
      "191 / 221\n",
      "192 / 221\n",
      "193 / 221\n",
      "194 / 221\n",
      "195 / 221\n",
      "196 / 221\n",
      "197 / 221\n",
      "198 / 221\n",
      "199 / 221\n",
      "200 / 221\n",
      "201 / 221\n",
      "202 / 221\n",
      "203 / 221\n",
      "204 / 221\n",
      "205 / 221\n",
      "206 / 221\n",
      "207 / 221\n",
      "208 / 221\n",
      "209 / 221\n",
      "210 / 221\n",
      "211 / 221\n",
      "212 / 221\n",
      "213 / 221\n",
      "214 / 221\n",
      "215 / 221\n",
      "216 / 221\n",
      "217 / 221\n",
      "218 / 221\n",
      "219 / 221\n",
      "220 / 221\n"
     ]
    }
   ],
   "source": [
    "for i in range(1,lastPageIndex()+1):\n",
    "    time.sleep(1)\n",
    "    link = browser.current_url\n",
    "    print(pageIndex(link),'/',lastPage_index)\n",
    "    if pageLinksExtractor(link):\n",
    "        print('stop')\n",
    "        break\n",
    "    \n",
    "    time.sleep(1)\n",
    "    nextPageclick()"
   ]
  },
  {
   "cell_type": "code",
   "execution_count": 60,
   "id": "935f6814",
   "metadata": {},
   "outputs": [],
   "source": [
    "nextPageclick()"
   ]
  },
  {
   "cell_type": "code",
   "execution_count": 49,
   "id": "63d77c1c",
   "metadata": {},
   "outputs": [
    {
     "name": "stdout",
     "output_type": "stream",
     "text": [
      "1\n",
      "2\n",
      "3\n",
      "4\n",
      "5\n",
      "6\n",
      "7\n",
      "8\n",
      "9\n",
      "10\n",
      "11\n",
      "12\n",
      "13\n",
      "14\n",
      "15\n",
      "16\n",
      "17\n",
      "18\n",
      "19\n",
      "20\n",
      "21\n",
      "22\n",
      "23\n",
      "24\n",
      "25\n",
      "26\n",
      "27\n",
      "28\n",
      "29\n",
      "30\n",
      "31\n",
      "32\n",
      "33\n",
      "34\n",
      "35\n",
      "36\n",
      "37\n",
      "38\n",
      "39\n",
      "40\n",
      "41\n",
      "42\n",
      "43\n",
      "44\n",
      "45\n",
      "46\n",
      "47\n",
      "48\n",
      "49\n",
      "50\n",
      "51\n",
      "52\n",
      "53\n",
      "54\n",
      "55\n",
      "56\n",
      "57\n",
      "58\n",
      "59\n",
      "60\n",
      "61\n",
      "62\n",
      "63\n",
      "64\n",
      "65\n",
      "66\n",
      "67\n",
      "68\n",
      "69\n",
      "70\n",
      "71\n",
      "72\n",
      "73\n",
      "74\n",
      "75\n",
      "76\n",
      "77\n",
      "78\n",
      "79\n",
      "80\n",
      "81\n",
      "82\n",
      "83\n",
      "84\n",
      "85\n",
      "86\n",
      "87\n",
      "88\n",
      "89\n",
      "90\n",
      "91\n",
      "92\n",
      "93\n",
      "94\n",
      "95\n",
      "96\n",
      "97\n",
      "98\n",
      "99\n",
      "100\n",
      "101\n",
      "102\n",
      "103\n",
      "104\n",
      "105\n",
      "106\n",
      "107\n",
      "108\n",
      "109\n",
      "110\n",
      "111\n",
      "112\n",
      "113\n",
      "114\n",
      "115\n",
      "116\n",
      "117\n",
      "118\n",
      "119\n",
      "120\n",
      "121\n",
      "122\n",
      "123\n",
      "124\n",
      "125\n",
      "126\n",
      "127\n",
      "128\n",
      "129\n",
      "130\n",
      "131\n",
      "132\n",
      "133\n",
      "134\n",
      "135\n",
      "136\n",
      "137\n",
      "138\n",
      "139\n",
      "140\n",
      "141\n",
      "142\n",
      "143\n",
      "144\n",
      "145\n",
      "146\n",
      "147\n",
      "148\n",
      "149\n",
      "150\n",
      "151\n",
      "152\n",
      "153\n",
      "154\n",
      "155\n",
      "156\n",
      "157\n",
      "158\n",
      "159\n",
      "160\n",
      "161\n",
      "162\n",
      "163\n",
      "164\n",
      "165\n",
      "166\n",
      "167\n",
      "168\n",
      "169\n",
      "170\n",
      "171\n",
      "172\n",
      "173\n",
      "174\n",
      "175\n",
      "176\n",
      "177\n",
      "178\n",
      "179\n",
      "180\n",
      "181\n",
      "182\n",
      "183\n",
      "184\n",
      "185\n",
      "186\n",
      "187\n",
      "188\n",
      "189\n",
      "190\n",
      "191\n",
      "192\n",
      "193\n",
      "194\n",
      "195\n",
      "196\n",
      "197\n",
      "198\n",
      "199\n",
      "200\n",
      "201\n",
      "202\n",
      "203\n",
      "204\n",
      "205\n",
      "206\n",
      "207\n",
      "208\n",
      "209\n",
      "210\n",
      "211\n",
      "212\n",
      "213\n",
      "214\n",
      "215\n",
      "216\n",
      "217\n",
      "218\n",
      "219\n"
     ]
    }
   ],
   "source": [
    "for i in range(1,220):\n",
    "    print(i)"
   ]
  },
  {
   "cell_type": "code",
   "execution_count": 43,
   "id": "aece190a",
   "metadata": {},
   "outputs": [
    {
     "data": {
      "text/plain": [
       "18059"
      ]
     },
     "execution_count": 43,
     "metadata": {},
     "output_type": "execute_result"
    }
   ],
   "source": [
    "df = pd.read_csv('links pages/links.csv')\n",
    "len(df)"
   ]
  },
  {
   "cell_type": "code",
   "execution_count": 12,
   "id": "823833c9",
   "metadata": {},
   "outputs": [
    {
     "name": "stdout",
     "output_type": "stream",
     "text": [
      "0\n",
      "1\n",
      "2\n",
      "3\n",
      "4\n",
      "5\n",
      "6\n",
      "7\n",
      "8\n",
      "9\n",
      "stop\n"
     ]
    }
   ],
   "source": [
    "def state():\n",
    "    for i in range(11):\n",
    "        print(i)\n",
    "        if i == 9:\n",
    "            return True\n",
    "for i in range(2):\n",
    "    if state():\n",
    "        print('stop')\n",
    "        break"
   ]
  },
  {
   "cell_type": "code",
   "execution_count": 27,
   "id": "0dae81d2",
   "metadata": {},
   "outputs": [],
   "source": [
    "file = open('links pages/links.csv',mode='r')"
   ]
  },
  {
   "cell_type": "code",
   "execution_count": 29,
   "id": "dc5bb74a",
   "metadata": {},
   "outputs": [
    {
     "name": "stdout",
     "output_type": "stream",
     "text": [
      "no\n"
     ]
    }
   ],
   "source": [
    "if 'https://999.md/ro/101249747' in file.read():\n",
    "    print('yes');\n",
    "else:\n",
    "    print('no')"
   ]
  },
  {
   "cell_type": "code",
   "execution_count": 34,
   "id": "aa1cba02",
   "metadata": {},
   "outputs": [
    {
     "name": "stdout",
     "output_type": "stream",
     "text": [
      "yes\n"
     ]
    }
   ],
   "source": [
    "with open('links pages/links.csv',mode= 'r') as f:\n",
    "    if 'https://999.md/ro/101249747' in f.read():\n",
    "        print('yes');\n",
    "    else:\n",
    "        print('no')"
   ]
  },
  {
   "cell_type": "code",
   "execution_count": 36,
   "id": "0e6d3d88",
   "metadata": {},
   "outputs": [],
   "source": [
    "browser.get('https://999.md/ro/101020993')"
   ]
  },
  {
   "cell_type": "code",
   "execution_count": 67,
   "id": "702f0a42",
   "metadata": {},
   "outputs": [
    {
     "data": {
      "text/plain": [
       "[1, 3, 4, 5]"
      ]
     },
     "execution_count": 67,
     "metadata": {},
     "output_type": "execute_result"
    }
   ],
   "source": [
    "list = [1,2,3,4,5]\n",
    "list.pop(1)\n",
    "list"
   ]
  },
  {
   "cell_type": "code",
   "execution_count": null,
   "id": "004170da",
   "metadata": {},
   "outputs": [
    {
     "data": {
      "text/plain": [
       "'Caracteristici\\nAutorul anunțului\\nDezvoltator imobiliar\\nNumăr de camere\\nApartament cu 2 camere\\nLiving\\nApartament cu living\\nSuprafață totală\\n67 m²\\nFond locativ\\nConstrucţii noi\\nEtaj\\n2\\nNumăr de etaje\\n7\\nStarea apartamentului\\nEuroreparație'"
      ]
     },
     "execution_count": 71,
     "metadata": {},
     "output_type": "execute_result"
    }
   ],
   "source": [
    "block3raw = browser.find_element(By.CLASS_NAME,'styles_group__aota8').text\n",
    "block3raw[block3raw]\n"
   ]
  }
 ],
 "metadata": {
  "kernelspec": {
   "display_name": "base",
   "language": "python",
   "name": "python3"
  },
  "language_info": {
   "codemirror_mode": {
    "name": "ipython",
    "version": 3
   },
   "file_extension": ".py",
   "mimetype": "text/x-python",
   "name": "python",
   "nbconvert_exporter": "python",
   "pygments_lexer": "ipython3",
   "version": "3.12.7"
  }
 },
 "nbformat": 4,
 "nbformat_minor": 5
}
