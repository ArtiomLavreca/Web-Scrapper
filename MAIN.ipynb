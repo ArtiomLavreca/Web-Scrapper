{
 "cells": [
  {
   "cell_type": "markdown",
   "id": "ed8cc9bd",
   "metadata": {},
   "source": [
    "Libraries and Modules"
   ]
  },
  {
   "cell_type": "code",
   "execution_count": 1,
   "id": "5f870b93",
   "metadata": {},
   "outputs": [],
   "source": [
    "from libra import *"
   ]
  },
  {
   "cell_type": "markdown",
   "id": "d6c12c67",
   "metadata": {},
   "source": [
    "\n",
    "Open local host chrome"
   ]
  },
  {
   "cell_type": "markdown",
   "id": "dc53daea",
   "metadata": {},
   "source": [
    "\n",
    "Render the website"
   ]
  },
  {
   "cell_type": "code",
   "execution_count": 8,
   "id": "59f9c223",
   "metadata": {},
   "outputs": [],
   "source": [
    "service = Service(executable_path='chromedriver.exe')\n",
    "browser = webdriver.Chrome(service=service)\n",
    "base_url = 'https://999.md/ro/list/real-estate/apartments-and-rooms?view_type=short&appl=1&ef=16,6,2307,2200&eo=13859,12885,12900,12912&o_16_1=776&o_32_8_12900=13859'\n",
    "browser.get(base_url)"
   ]
  },
  {
   "cell_type": "markdown",
   "id": "b0694561",
   "metadata": {},
   "source": [
    "---"
   ]
  },
  {
   "cell_type": "markdown",
   "id": "ae4071bc",
   "metadata": {},
   "source": [
    "Functions "
   ]
  },
  {
   "cell_type": "markdown",
   "id": "fc42b2ff",
   "metadata": {},
   "source": [
    "Gets the page index"
   ]
  },
  {
   "cell_type": "code",
   "execution_count": null,
   "id": "1697eecd",
   "metadata": {},
   "outputs": [],
   "source": [
    "def pageIndex(link):\n",
    "    if 'page=' in link:\n",
    "        pagenumberindex = link[link.index('page='):].replace('page=','')\n",
    "    else:\n",
    "        pagenumberindex = 1\n",
    "\n",
    "    return pagenumberindex  "
   ]
  },
  {
   "cell_type": "markdown",
   "id": "17b7eed1",
   "metadata": {},
   "source": [
    "Gets the link to the last page "
   ]
  },
  {
   "cell_type": "code",
   "execution_count": 45,
   "id": "ea04b139",
   "metadata": {},
   "outputs": [],
   "source": [
    "def lastPageIndex():\n",
    "    global browser\n",
    "\n",
    "    lastpage = browser.find_element(By.CLASS_NAME,'Pagination_pagination__container__buttons__wrapper__icon__last__page__84ROu')\n",
    "    lastpage.click()\n",
    "    #print(browser.current_url)\n",
    "    link_lastpage = browser.current_url\n",
    "    return pageIndex(link_lastpage)"
   ]
  },
  {
   "cell_type": "markdown",
   "id": "a9eb4d61",
   "metadata": {},
   "source": [
    "Gets the link to the first page"
   ]
  },
  {
   "cell_type": "code",
   "execution_count": null,
   "id": "e374df9f",
   "metadata": {},
   "outputs": [],
   "source": [
    "def firstPageIndex():\n",
    "    global browser\n",
    "\n",
    "    firstpage = browser.find_element(By.CLASS_NAME,'Pagination_pagination__container__buttons__wrapper__icon__first__page__GYuK2')\n",
    "    firstpage.click()\n",
    "    #print(browser.current_url)\n",
    "    link_firstpage = browser.current_url\n",
    "    return pageIndex(link_firstpage)"
   ]
  },
  {
   "cell_type": "markdown",
   "id": "3a05418c",
   "metadata": {},
   "source": [
    "Extracts links from the block of offers and save them into .csv file with the index of the processed page"
   ]
  },
  {
   "cell_type": "markdown",
   "id": "171e2817",
   "metadata": {},
   "source": [
    "оооо"
   ]
  },
  {
   "cell_type": "code",
   "execution_count": 36,
   "id": "71f9f4c3",
   "metadata": {},
   "outputs": [],
   "source": [
    "def pageLinksExtractor(link):\n",
    "\n",
    "    global browser\n",
    "    page = browser.current_url\n",
    "    \n",
    "    adsblock = browser.find_element(By.XPATH,'/html/body/div[2]/div/div/div[2]/div/div[2]')\n",
    "    adlist = adsblock.find_elements(By.CLASS_NAME,'AdShort_wrapper__S8kqq')\n",
    "    data = {}\n",
    "    adid = 0\n",
    "    for ad in adlist:\n",
    "        adlink = ad.find_element(By.CSS_SELECTOR, \"a.AdShort_title__link__EnVP9\").get_attribute(\"href\") \n",
    "        adData = adlink\n",
    "        data.update({adid : adData})\n",
    "        adid = adid + 1\n",
    "        \n",
    "    file_path = f\"links pages/page{pageIndex(link)}.csv\"\n",
    "\n",
    "    with open(file_path, mode=\"w\", encoding=\"utf-8\", newline=\"\") as f:\n",
    "        writer = csv.writer(f)\n",
    "        writer.writerow(['links'])\n",
    "\n",
    "        for link in data.values():\n",
    "            writer.writerow([link])"
   ]
  },
  {
   "cell_type": "markdown",
   "id": "3ea101e2",
   "metadata": {},
   "source": [
    "Goes to the next page"
   ]
  },
  {
   "cell_type": "code",
   "execution_count": null,
   "id": "3eec9970",
   "metadata": {},
   "outputs": [],
   "source": [
    "def nextPageclick():\n",
    "    global browser\n",
    "\n",
    "    button_next = browser.find_element(By.CLASS_NAME,'Pagination_pagination__container__buttons__wrapper__icon__next__A22Rc')\n",
    "    button_next.click()"
   ]
  },
  {
   "cell_type": "markdown",
   "id": "a9dc4313",
   "metadata": {},
   "source": [
    "Goes backwards"
   ]
  },
  {
   "cell_type": "code",
   "execution_count": null,
   "id": "ad8fe28b",
   "metadata": {},
   "outputs": [],
   "source": [
    "def backPageclick():    \n",
    "    global browser\n",
    "    \n",
    "    button_back = browser.find_element(By.CLASS_NAME,'Pagination_pagination__container__buttons__wrapper__icon__previous__njSYV')\n",
    "    button_back.click()\n"
   ]
  },
  {
   "cell_type": "markdown",
   "id": "79b3ed13",
   "metadata": {},
   "source": [
    "-----"
   ]
  },
  {
   "cell_type": "code",
   "execution_count": 9,
   "id": "0ed9f193",
   "metadata": {},
   "outputs": [],
   "source": [
    "gotolinkpage = browser.find_element(By.CLASS_NAME,'AdShort_title__krp9R')\n",
    "gotolinkpage.click()"
   ]
  },
  {
   "cell_type": "code",
   "execution_count": null,
   "id": "dcc25141",
   "metadata": {},
   "outputs": [
    {
     "name": "stdout",
     "output_type": "stream",
     "text": [
      "21 iul. 2025\n",
      "10:37\n"
     ]
    },
    {
     "data": {
      "text/plain": [
       "['21 iul. 2025', ' 10:37']"
      ]
     },
     "execution_count": 34,
     "metadata": {},
     "output_type": "execute_result"
    }
   ],
   "source": [
    "dataUpdateraw = browser.find_element(By.CLASS_NAME,'styles_date__voWnk').text.replace('Data actualizării: ','')\n",
    "#dataUpdate = dataUpdateraw[dataUpdateraw.index(': '):].replace(': ','')\n",
    "\n",
    "adUpdate = dataUpdateraw.split(',')[0]\n",
    "adUpdatetime = dataUpdateraw.split(',')[1].replace(' ','')\n",
    "\n",
    "print(adUpdate)\n",
    "print(adUpdatetime)\n",
    "\n"
   ]
  },
  {
   "cell_type": "code",
   "execution_count": 35,
   "id": "45a2f96a",
   "metadata": {},
   "outputs": [
    {
     "name": "stdout",
     "output_type": "stream",
     "text": [
      "Vând\n"
     ]
    }
   ],
   "source": [
    "adType = browser.find_element(By.CLASS_NAME,'styles_type___J9Dy').text.replace('Tipul: ','')\n",
    "print(adType)"
   ]
  },
  {
   "cell_type": "code",
   "execution_count": 41,
   "id": "d29b65a4",
   "metadata": {},
   "outputs": [
    {
     "name": "stdout",
     "output_type": "stream",
     "text": [
      "63 500 €\n",
      "≈ 70 050 $\n",
      "≈ 1 238 542 MDL\n"
     ]
    }
   ],
   "source": [
    "adprice_euro = browser.find_element(By.CLASS_NAME,'styles_sidebar__main__DaXQC').text\n",
    "adprice_dollar = browser.find_element(By.XPATH,'/html/body/div[2]/section/section/aside/div[1]/div[3]/div/ul/li[1]').text\n",
    "adprice_mdl = browser.find_element(By.XPATH,'/html/body/div[2]/section/section/aside/div[1]/div[3]/div/ul/li[2]').text\n",
    "print(adprice_euro)\n",
    "print(adprice_dollar)\n",
    "print(adprice_mdl)"
   ]
  },
  {
   "cell_type": "code",
   "execution_count": 43,
   "id": "2cce3de8",
   "metadata": {},
   "outputs": [
    {
     "name": "stdout",
     "output_type": "stream",
     "text": [
      "Chișinău mun., Chișinău, Ciocana, bd. Mircea cel Bătrân, 5i\n"
     ]
    }
   ],
   "source": [
    "ad_address = browser.find_element(By.CLASS_NAME,'styles_address__alp5x').text.replace('Regiunea: ','')\n",
    "print(ad_address)"
   ]
  },
  {
   "cell_type": "markdown",
   "id": "07ba0d1a",
   "metadata": {},
   "source": [
    "---"
   ]
  },
  {
   "cell_type": "code",
   "execution_count": 48,
   "id": "01004c3f",
   "metadata": {},
   "outputs": [
    {
     "name": "stdout",
     "output_type": "stream",
     "text": [
      "Persoană fizică\n"
     ]
    }
   ],
   "source": [
    "ad_author = browser.find_element(By.XPATH,'/html/body/div[2]/section/section/div/div[3]/div[1]/div/ul/li[1]/span[2]').text\n",
    "print(ad_author)"
   ]
  },
  {
   "cell_type": "code",
   "execution_count": 47,
   "id": "eb94f02f",
   "metadata": {},
   "outputs": [
    {
     "name": "stdout",
     "output_type": "stream",
     "text": [
      "Apartament cu 1 cameră\n"
     ]
    }
   ],
   "source": [
    "ad_roomsNumber = browser.find_element(By.XPATH,'/html/body/div[2]/section/section/div/div[3]/div[1]/div/ul/li[2]/span[2]').text\n",
    "print(ad_roomsNumber)"
   ]
  },
  {
   "cell_type": "code",
   "execution_count": 49,
   "id": "17ecaedf",
   "metadata": {},
   "outputs": [
    {
     "name": "stdout",
     "output_type": "stream",
     "text": [
      "27 m²\n"
     ]
    }
   ],
   "source": [
    "ad_surface = browser.find_element(By.XPATH,'/html/body/div[2]/section/section/div/div[3]/div[1]/div/ul/li[3]/span[2]').text\n",
    "print(ad_surface)"
   ]
  },
  {
   "cell_type": "code",
   "execution_count": 51,
   "id": "2fd5e482",
   "metadata": {},
   "outputs": [
    {
     "name": "stdout",
     "output_type": "stream",
     "text": [
      "Construcţii noi\n"
     ]
    }
   ],
   "source": [
    "\n",
    "ad_fondLocativ = browser.find_element(By.XPATH,'/html/body/div[2]/section/section/div/div[3]/div[1]/div/ul/li[4]/span[2]').text\n",
    "print(ad_fondLocativ)"
   ]
  },
  {
   "cell_type": "code",
   "execution_count": 52,
   "id": "ab0fe7ae",
   "metadata": {},
   "outputs": [
    {
     "name": "stdout",
     "output_type": "stream",
     "text": [
      "11\n"
     ]
    }
   ],
   "source": [
    "\n",
    "ad_floorNumber = browser.find_element(By.XPATH,'/html/body/div[2]/section/section/div/div[3]/div[1]/div/ul/li[5]/span[2]').text\n",
    "print(ad_floorNumber)"
   ]
  },
  {
   "cell_type": "code",
   "execution_count": 53,
   "id": "e4c8bf4c",
   "metadata": {},
   "outputs": [
    {
     "name": "stdout",
     "output_type": "stream",
     "text": [
      "14\n"
     ]
    }
   ],
   "source": [
    "\n",
    "ad_TotalFloorNr = browser.find_element(By.XPATH,'/html/body/div[2]/section/section/div/div[3]/div[1]/div/ul/li[6]/span[2]').text\n",
    "print(ad_TotalFloorNr)"
   ]
  },
  {
   "cell_type": "code",
   "execution_count": 54,
   "id": "ce5811c7",
   "metadata": {},
   "outputs": [
    {
     "name": "stdout",
     "output_type": "stream",
     "text": [
      "Monolit\n"
     ]
    }
   ],
   "source": [
    "ad_buildingType = browser.find_element(By.XPATH,'/html/body/div[2]/section/section/div/div[3]/div[1]/div/ul/li[7]/span[2]').text\n",
    "print(ad_buildingType)"
   ]
  },
  {
   "cell_type": "code",
   "execution_count": 55,
   "id": "e4a6eefc",
   "metadata": {},
   "outputs": [
    {
     "name": "stdout",
     "output_type": "stream",
     "text": [
      "Euroreparație\n"
     ]
    }
   ],
   "source": [
    "ad_floorStatus = browser.find_element(By.XPATH,'/html/body/div[2]/section/section/div/div[3]/div[1]/div/ul/li[8]/span[2]').text\n",
    "print(ad_floorStatus)"
   ]
  },
  {
   "cell_type": "code",
   "execution_count": 56,
   "id": "9f96795e",
   "metadata": {},
   "outputs": [
    {
     "name": "stdout",
     "output_type": "stream",
     "text": [
      "Individuală\n"
     ]
    }
   ],
   "source": [
    "\n",
    "\n",
    "ad_compartimentare = browser.find_element(By.XPATH,'/html/body/div[2]/section/section/div/div[3]/div[1]/div/ul/li[9]/span[2]').text\n",
    "print(ad_compartimentare)"
   ]
  },
  {
   "cell_type": "code",
   "execution_count": 68,
   "id": "4243decc",
   "metadata": {},
   "outputs": [],
   "source": [
    "show_number = browser.find_element(By.XPATH,'/html/body/div[2]/section/section/div/footer/div[3]/div[2]/button')\n",
    "show_number.click()\n"
   ]
  },
  {
   "cell_type": "code",
   "execution_count": 74,
   "id": "03966594",
   "metadata": {},
   "outputs": [
    {
     "name": "stdout",
     "output_type": "stream",
     "text": [
      "+37376687875\n"
     ]
    }
   ],
   "source": [
    "ad_contact = browser.find_element(By.CLASS_NAME,'styles_number__koOQS').get_attribute('href').replace('tel:','')\n",
    "print(ad_contact) "
   ]
  },
  {
   "cell_type": "code",
   "execution_count": null,
   "id": "67e3a935",
   "metadata": {},
   "outputs": [],
   "source": []
  }
 ],
 "metadata": {
  "kernelspec": {
   "display_name": "base",
   "language": "python",
   "name": "python3"
  },
  "language_info": {
   "codemirror_mode": {
    "name": "ipython",
    "version": 3
   },
   "file_extension": ".py",
   "mimetype": "text/x-python",
   "name": "python",
   "nbconvert_exporter": "python",
   "pygments_lexer": "ipython3",
   "version": "3.12.7"
  }
 },
 "nbformat": 4,
 "nbformat_minor": 5
}
