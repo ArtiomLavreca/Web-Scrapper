{
 "cells": [
  {
   "cell_type": "markdown",
   "id": "ed8cc9bd",
   "metadata": {},
   "source": [
    "Libraries and Modules"
   ]
  },
  {
   "cell_type": "code",
   "execution_count": 4,
   "id": "af0b55be",
   "metadata": {},
   "outputs": [
    {
     "name": "stdout",
     "output_type": "stream",
     "text": [
      "True\n"
     ]
    }
   ],
   "source": [
    "with open('links.csv',mode = 'a+') as f:\n",
    "    f.seek(0)\n",
    "    print('https://999.md/ro/101624312' not in f.read())"
   ]
  },
  {
   "cell_type": "code",
   "execution_count": null,
   "id": "5f870b93",
   "metadata": {},
   "outputs": [],
   "source": [
    "from libraries import *\n",
    "\n",
    "\n"
   ]
  },
  {
   "cell_type": "markdown",
   "id": "d6c12c67",
   "metadata": {},
   "source": [
    "\n",
    "Open local host chrome"
   ]
  },
  {
   "cell_type": "markdown",
   "id": "dc53daea",
   "metadata": {},
   "source": [
    "\n",
    "Render the website"
   ]
  },
  {
   "cell_type": "code",
   "execution_count": 2,
   "id": "59f9c223",
   "metadata": {},
   "outputs": [],
   "source": [
    "service = Service(executable_path='chromedriver.exe')\n",
    "browser = webdriver.Chrome(service=service)\n",
    "base_url = 'https://999.md/ro/list/real-estate/apartments-and-rooms?view_type=short&appl=1&ef=16,6,2307,2200&eo=13859,12885,12900,12912&o_16_1=776&o_32_8_12900=13859'\n",
    "browser.get(base_url)"
   ]
  },
  {
   "cell_type": "markdown",
   "id": "b0694561",
   "metadata": {},
   "source": [
    "---"
   ]
  },
  {
   "cell_type": "markdown",
   "id": "ae4071bc",
   "metadata": {},
   "source": [
    "Functions "
   ]
  },
  {
   "cell_type": "markdown",
   "id": "fc42b2ff",
   "metadata": {},
   "source": [
    "Gets the page index"
   ]
  },
  {
   "cell_type": "code",
   "execution_count": 4,
   "id": "1697eecd",
   "metadata": {},
   "outputs": [],
   "source": [
    "def pageIndex(link):\n",
    "    if 'page=' in link:\n",
    "        pagenumberindex = link[link.index('page='):].replace('page=','')\n",
    "    else:\n",
    "        pagenumberindex = 1\n",
    "    \n",
    "    \n",
    "    return int(pagenumberindex)  "
   ]
  },
  {
   "cell_type": "markdown",
   "id": "17b7eed1",
   "metadata": {},
   "source": [
    "Gets the link to the last page "
   ]
  },
  {
   "cell_type": "code",
   "execution_count": null,
   "id": "a08cce14",
   "metadata": {},
   "outputs": [],
   "source": []
  },
  {
   "cell_type": "code",
   "execution_count": 5,
   "id": "ea04b139",
   "metadata": {},
   "outputs": [],
   "source": [
    "\n",
    "def lastPageIndex():\n",
    "    global browser,time,lastPage_index\n",
    "\n",
    "    lastpage = browser.find_element(By.CLASS_NAME,'Pagination_pagination__container__buttons__wrapper__icon__last__page__84ROu')\n",
    "    lastpage.click()\n",
    "    #print(browser.current_url)\n",
    "    link_lastpage = browser.current_url\n",
    "    time.sleep(1.5)\n",
    "    browser.get('https://999.md/ro/list/real-estate/apartments-and-rooms?view_type=short&appl=1&ef=16,6,2307,2200&eo=13859,12885,12900,12912&o_16_1=776&o_32_8_12900=13859')\n",
    "    \n",
    "    lastPage_index = pageIndex(link_lastpage)\n",
    "    return lastPage_index"
   ]
  },
  {
   "cell_type": "markdown",
   "id": "a9eb4d61",
   "metadata": {},
   "source": [
    "Gets the link to the first page"
   ]
  },
  {
   "cell_type": "code",
   "execution_count": null,
   "id": "e374df9f",
   "metadata": {},
   "outputs": [],
   "source": [
    "def firstPageIndex():\n",
    "    global browser,time\n",
    "\n",
    "    firstpage = browser.find_element(By.CLASS_NAME,'Pagination_pagination__container__buttons__wrapper__icon__first__page__GYuK2')\n",
    "    firstpage.click()\n",
    "    #print(browser.current_url)\n",
    "    link_firstpage = browser.current_url\n",
    "    lastPage_index = pageIndex(link_firstpage)\n",
    "    return lastPage_index"
   ]
  },
  {
   "cell_type": "code",
   "execution_count": null,
   "id": "cf953aea",
   "metadata": {},
   "outputs": [],
   "source": []
  },
  {
   "cell_type": "markdown",
   "id": "3a05418c",
   "metadata": {},
   "source": [
    "Extracts links from the block of offers and save them into .csv file with the index of the processed page"
   ]
  },
  {
   "cell_type": "markdown",
   "id": "171e2817",
   "metadata": {},
   "source": [
    "оооо"
   ]
  },
  {
   "cell_type": "code",
   "execution_count": 19,
   "id": "71f9f4c3",
   "metadata": {},
   "outputs": [],
   "source": [
    "def pageLinksExtractor(link):\n",
    "\n",
    "    global browser\n",
    "    page = browser.current_url\n",
    "    \n",
    "    adsblock = browser.find_element(By.XPATH,'/html/body/div[2]/div/div/div[2]/div/div[2]')\n",
    "    adlist = adsblock.find_elements(By.CLASS_NAME,'AdShort_wrapper__S8kqq')\n",
    "    #data = {}\n",
    "    #adid = 0\n",
    "    '''for ad in adlist:\n",
    "        if adlink not in data:\n",
    "            data.update({adid : adlink})\n",
    "        else:\n",
    "            break    \n",
    "        adid = adid + 1'''\n",
    "        \n",
    "    file_path = \"links_test.csv\"\n",
    "\n",
    "    with open(file_path, mode=\"a+\", encoding=\"utf-8\", newline=\"\") as f:\n",
    "        writer = csv.writer(f)\n",
    "        \n",
    "        with open('links.csv',mode='r') as f2:\n",
    "            for ad in adlist:\n",
    "                adlink = ad.find_element(By.CSS_SELECTOR, \"a.AdShort_title__link__EnVP9\").get_attribute(\"href\") \n",
    "                if adlink not in f2.read():\n",
    "                    writer.writerow([adlink])\n",
    "                else:\n",
    "                    return True \n",
    "                    \n",
    "                    "
   ]
  },
  {
   "cell_type": "code",
   "execution_count": null,
   "id": "c75f3aab",
   "metadata": {},
   "outputs": [],
   "source": []
  },
  {
   "cell_type": "code",
   "execution_count": 18,
   "id": "819f542c",
   "metadata": {},
   "outputs": [
    {
     "name": "stdout",
     "output_type": "stream",
     "text": [
      "True\n"
     ]
    }
   ],
   "source": [
    "with open('links.csv',mode = 'r+') as f1:\n",
    "        with open('links_test.csv',mode = 'r+') as f2:\n",
    "                print(f1.read().splitlines()[-1] in f2.read())"
   ]
  },
  {
   "cell_type": "code",
   "execution_count": null,
   "id": "bc14eccd",
   "metadata": {},
   "outputs": [],
   "source": [
    "pageLinksExtractor(browser.current_url)"
   ]
  },
  {
   "cell_type": "markdown",
   "id": "3ea101e2",
   "metadata": {},
   "source": [
    "Goes to the next page"
   ]
  },
  {
   "cell_type": "code",
   "execution_count": 7,
   "id": "3eec9970",
   "metadata": {},
   "outputs": [],
   "source": [
    "def nextPageclick():\n",
    "    global browser\n",
    "\n",
    "    button_next = browser.find_element(By.CLASS_NAME,'Pagination_pagination__container__buttons__wrapper__icon__next__A22Rc')\n",
    "    button_next.click()"
   ]
  },
  {
   "cell_type": "markdown",
   "id": "a9dc4313",
   "metadata": {},
   "source": [
    "Goes backwards"
   ]
  },
  {
   "cell_type": "code",
   "execution_count": null,
   "id": "ad8fe28b",
   "metadata": {},
   "outputs": [],
   "source": [
    "def backPageclick():    \n",
    "    global browser\n",
    "    \n",
    "    button_back = browser.find_element(By.CLASS_NAME,'Pagination_pagination__container__buttons__wrapper__icon__previous__njSYV')\n",
    "    button_back.click()\n"
   ]
  },
  {
   "cell_type": "markdown",
   "id": "79b3ed13",
   "metadata": {},
   "source": [
    "-----"
   ]
  },
  {
   "cell_type": "code",
   "execution_count": null,
   "id": "0ed9f193",
   "metadata": {},
   "outputs": [],
   "source": [
    "#gotolinkpage = browser.find_element(By.CLASS_NAME,'AdShort_title__krp9R')\n",
    "#gotolinkpage.click()"
   ]
  },
  {
   "cell_type": "code",
   "execution_count": null,
   "id": "d99c667b",
   "metadata": {},
   "outputs": [],
   "source": [
    "def getPageData():\n",
    "    global browser\n",
    "\n",
    "    dataUpdateraw = browser.find_element(By.CLASS_NAME,'styles_date__voWnk').text.replace('Data actualizării: ','')\n",
    "    #dataUpdate = dataUpdateraw[dataUpdateraw.index(': '):].replace(': ','')\n",
    "    adUpdate = dataUpdateraw.split(',')[0]\n",
    "    adUpdatetime = dataUpdateraw.split(',')[1].replace(' ','')\n",
    "\n",
    "    adType = browser.find_element(By.CLASS_NAME,'styles_type___J9Dy').text.replace('Tipul: ','')\n",
    "\n",
    "    adprice_euro = browser.find_element(By.CLASS_NAME,'styles_sidebar__main__DaXQC').text\n",
    "    adprice_dollar = browser.find_element(By.XPATH,'/html/body/div[2]/section/section/aside/div[1]/div[3]/div/ul/li[1]').text\n",
    "    adprice_mdl = browser.find_element(By.XPATH,'/html/body/div[2]/section/section/aside/div[1]/div[3]/div/ul/li[2]').text\n",
    "\n",
    "    ad_address = browser.find_element(By.CLASS_NAME,'styles_address__alp5x').text.replace('Regiunea: ','')\n",
    "\n",
    "    ad_author = browser.find_element(By.XPATH,'/html/body/div[2]/section/section/div/div[3]/div[1]/div/ul/li[1]/span[2]').text\n",
    "\n",
    "    ad_roomsNumber = browser.find_element(By.XPATH,'/html/body/div[2]/section/section/div/div[3]/div[1]/div/ul/li[2]/span[2]').text\n",
    "\n",
    "    ad_surface = browser.find_element(By.XPATH,'/html/body/div[2]/section/section/div/div[3]/div[1]/div/ul/li[3]/span[2]').text\n",
    "\n",
    "    ad_fondLocativ = browser.find_element(By.XPATH,'/html/body/div[2]/section/section/div/div[3]/div[1]/div/ul/li[4]/span[2]').text\n",
    "\n",
    "    ad_floorNumber = browser.find_element(By.XPATH,'/html/body/div[2]/section/section/div/div[3]/div[1]/div/ul/li[5]/span[2]').text\n",
    "\n",
    "    ad_TotalFloorNr = browser.find_element(By.XPATH,'/html/body/div[2]/section/section/div/div[3]/div[1]/div/ul/li[6]/span[2]').text\n",
    "\n",
    "    ad_buildingType = browser.find_element(By.XPATH,'/html/body/div[2]/section/section/div/div[3]/div[1]/div/ul/li[7]/span[2]').text\n",
    "\n",
    "    ad_floorStatus = browser.find_element(By.XPATH,'/html/body/div[2]/section/section/div/div[3]/div[1]/div/ul/li[8]/span[2]').text\n",
    "\n",
    "    ad_compartimentare = browser.find_element(By.XPATH,'/html/body/div[2]/section/section/div/div[3]/div[1]/div/ul/li[9]/span[2]').text\n",
    "\n",
    "    show_number = browser.find_element(By.XPATH,'/html/body/div[2]/section/section/div/footer/div[3]/div[2]/button')\n",
    "    show_number.click()\n",
    "\n",
    "    ad_contact = browser.find_element(By.CLASS_NAME,'styles_number__koOQS').get_attribute('href').replace('tel:','')\n",
    "\n",
    "    ad_url = browser.current_url\n",
    "\n",
    "    data2 = {\n",
    "    'update' : adUpdate,\n",
    "    'time': adUpdatetime,\n",
    "    'link' : ad_url,\n",
    "    'type' : adType,\n",
    "    'priceEuro' : adprice_euro,\n",
    "    'priceDollar' : adprice_dollar.replace('≈ ',''),\n",
    "    'priceMDL' : adprice_mdl.replace('≈ ',''),\n",
    "    'address' : ad_address,\n",
    "\n",
    "    'author' : ad_author,\n",
    "    'Number of Rooms' : ad_roomsNumber,\n",
    "    'Surface' : ad_surface,\n",
    "    'Fond Locativ' : ad_fondLocativ,\n",
    "    'Etaj' : ad_floorNumber,\n",
    "    'Numar de etaje' : ad_TotalFloorNr,\n",
    "    'Tipe cladire' : ad_buildingType,\n",
    "    'Starea Apartamentului' : ad_floorStatus,\n",
    "    'Compartimentare' : ad_compartimentare,\n",
    "    'Contact' : ad_contact\n",
    "\n",
    "    }\n",
    "    return data2"
   ]
  },
  {
   "cell_type": "code",
   "execution_count": null,
   "id": "cf8948a2",
   "metadata": {},
   "outputs": [],
   "source": [
    "#getPageData()"
   ]
  },
  {
   "cell_type": "code",
   "execution_count": null,
   "id": "6d6c9b40",
   "metadata": {},
   "outputs": [],
   "source": [
    "#lastPageIndex()"
   ]
  },
  {
   "cell_type": "code",
   "execution_count": null,
   "id": "88ee6046",
   "metadata": {},
   "outputs": [],
   "source": [
    "#firstPageIndex()"
   ]
  },
  {
   "cell_type": "code",
   "execution_count": 20,
   "id": "14c5c73e",
   "metadata": {},
   "outputs": [
    {
     "name": "stdout",
     "output_type": "stream",
     "text": [
      "1 / 221\n",
      "stop\n"
     ]
    }
   ],
   "source": [
    "for i in range(1,lastPageIndex()+1):\n",
    "    time.sleep(1)\n",
    "    link = browser.current_url\n",
    "    print(pageIndex(link),'/',lastPage_index)\n",
    "    if pageLinksExtractor(link):\n",
    "        print('stop')\n",
    "        break\n",
    "    \n",
    "    time.sleep(1)\n",
    "    nextPageclick()"
   ]
  },
  {
   "cell_type": "code",
   "execution_count": null,
   "id": "935f6814",
   "metadata": {},
   "outputs": [],
   "source": [
    "nextPageclick()"
   ]
  },
  {
   "cell_type": "code",
   "execution_count": null,
   "id": "63d77c1c",
   "metadata": {},
   "outputs": [],
   "source": [
    "for i in range(1,220):\n",
    "    print(i)"
   ]
  },
  {
   "cell_type": "code",
   "execution_count": 7,
   "id": "aece190a",
   "metadata": {},
   "outputs": [
    {
     "ename": "KeyError",
     "evalue": "8",
     "output_type": "error",
     "traceback": [
      "\u001b[1;31m---------------------------------------------------------------------------\u001b[0m",
      "\u001b[1;31mKeyError\u001b[0m                                  Traceback (most recent call last)",
      "File \u001b[1;32md:\\APPLICATIONS\\Anaconda\\Lib\\site-packages\\pandas\\core\\indexes\\base.py:3805\u001b[0m, in \u001b[0;36mIndex.get_loc\u001b[1;34m(self, key)\u001b[0m\n\u001b[0;32m   3804\u001b[0m \u001b[38;5;28;01mtry\u001b[39;00m:\n\u001b[1;32m-> 3805\u001b[0m     \u001b[38;5;28;01mreturn\u001b[39;00m \u001b[38;5;28mself\u001b[39m\u001b[38;5;241m.\u001b[39m_engine\u001b[38;5;241m.\u001b[39mget_loc(casted_key)\n\u001b[0;32m   3806\u001b[0m \u001b[38;5;28;01mexcept\u001b[39;00m \u001b[38;5;167;01mKeyError\u001b[39;00m \u001b[38;5;28;01mas\u001b[39;00m err:\n",
      "File \u001b[1;32mindex.pyx:167\u001b[0m, in \u001b[0;36mpandas._libs.index.IndexEngine.get_loc\u001b[1;34m()\u001b[0m\n",
      "File \u001b[1;32mindex.pyx:196\u001b[0m, in \u001b[0;36mpandas._libs.index.IndexEngine.get_loc\u001b[1;34m()\u001b[0m\n",
      "File \u001b[1;32mpandas\\\\_libs\\\\hashtable_class_helper.pxi:7081\u001b[0m, in \u001b[0;36mpandas._libs.hashtable.PyObjectHashTable.get_item\u001b[1;34m()\u001b[0m\n",
      "File \u001b[1;32mpandas\\\\_libs\\\\hashtable_class_helper.pxi:7089\u001b[0m, in \u001b[0;36mpandas._libs.hashtable.PyObjectHashTable.get_item\u001b[1;34m()\u001b[0m\n",
      "\u001b[1;31mKeyError\u001b[0m: 8",
      "\nThe above exception was the direct cause of the following exception:\n",
      "\u001b[1;31mKeyError\u001b[0m                                  Traceback (most recent call last)",
      "Cell \u001b[1;32mIn[7], line 3\u001b[0m\n\u001b[0;32m      1\u001b[0m \u001b[38;5;28;01mimport\u001b[39;00m \u001b[38;5;21;01mpandas\u001b[39;00m \u001b[38;5;28;01mas\u001b[39;00m \u001b[38;5;21;01mpd\u001b[39;00m\n\u001b[0;32m      2\u001b[0m df \u001b[38;5;241m=\u001b[39m pd\u001b[38;5;241m.\u001b[39mread_csv(\u001b[38;5;124m'\u001b[39m\u001b[38;5;124mlinks.csv\u001b[39m\u001b[38;5;124m'\u001b[39m)\n\u001b[1;32m----> 3\u001b[0m df[\u001b[38;5;241m8\u001b[39m]\n",
      "File \u001b[1;32md:\\APPLICATIONS\\Anaconda\\Lib\\site-packages\\pandas\\core\\frame.py:4102\u001b[0m, in \u001b[0;36mDataFrame.__getitem__\u001b[1;34m(self, key)\u001b[0m\n\u001b[0;32m   4100\u001b[0m \u001b[38;5;28;01mif\u001b[39;00m \u001b[38;5;28mself\u001b[39m\u001b[38;5;241m.\u001b[39mcolumns\u001b[38;5;241m.\u001b[39mnlevels \u001b[38;5;241m>\u001b[39m \u001b[38;5;241m1\u001b[39m:\n\u001b[0;32m   4101\u001b[0m     \u001b[38;5;28;01mreturn\u001b[39;00m \u001b[38;5;28mself\u001b[39m\u001b[38;5;241m.\u001b[39m_getitem_multilevel(key)\n\u001b[1;32m-> 4102\u001b[0m indexer \u001b[38;5;241m=\u001b[39m \u001b[38;5;28mself\u001b[39m\u001b[38;5;241m.\u001b[39mcolumns\u001b[38;5;241m.\u001b[39mget_loc(key)\n\u001b[0;32m   4103\u001b[0m \u001b[38;5;28;01mif\u001b[39;00m is_integer(indexer):\n\u001b[0;32m   4104\u001b[0m     indexer \u001b[38;5;241m=\u001b[39m [indexer]\n",
      "File \u001b[1;32md:\\APPLICATIONS\\Anaconda\\Lib\\site-packages\\pandas\\core\\indexes\\base.py:3812\u001b[0m, in \u001b[0;36mIndex.get_loc\u001b[1;34m(self, key)\u001b[0m\n\u001b[0;32m   3807\u001b[0m     \u001b[38;5;28;01mif\u001b[39;00m \u001b[38;5;28misinstance\u001b[39m(casted_key, \u001b[38;5;28mslice\u001b[39m) \u001b[38;5;129;01mor\u001b[39;00m (\n\u001b[0;32m   3808\u001b[0m         \u001b[38;5;28misinstance\u001b[39m(casted_key, abc\u001b[38;5;241m.\u001b[39mIterable)\n\u001b[0;32m   3809\u001b[0m         \u001b[38;5;129;01mand\u001b[39;00m \u001b[38;5;28many\u001b[39m(\u001b[38;5;28misinstance\u001b[39m(x, \u001b[38;5;28mslice\u001b[39m) \u001b[38;5;28;01mfor\u001b[39;00m x \u001b[38;5;129;01min\u001b[39;00m casted_key)\n\u001b[0;32m   3810\u001b[0m     ):\n\u001b[0;32m   3811\u001b[0m         \u001b[38;5;28;01mraise\u001b[39;00m InvalidIndexError(key)\n\u001b[1;32m-> 3812\u001b[0m     \u001b[38;5;28;01mraise\u001b[39;00m \u001b[38;5;167;01mKeyError\u001b[39;00m(key) \u001b[38;5;28;01mfrom\u001b[39;00m \u001b[38;5;21;01merr\u001b[39;00m\n\u001b[0;32m   3813\u001b[0m \u001b[38;5;28;01mexcept\u001b[39;00m \u001b[38;5;167;01mTypeError\u001b[39;00m:\n\u001b[0;32m   3814\u001b[0m     \u001b[38;5;66;03m# If we have a listlike key, _check_indexing_error will raise\u001b[39;00m\n\u001b[0;32m   3815\u001b[0m     \u001b[38;5;66;03m#  InvalidIndexError. Otherwise we fall through and re-raise\u001b[39;00m\n\u001b[0;32m   3816\u001b[0m     \u001b[38;5;66;03m#  the TypeError.\u001b[39;00m\n\u001b[0;32m   3817\u001b[0m     \u001b[38;5;28mself\u001b[39m\u001b[38;5;241m.\u001b[39m_check_indexing_error(key)\n",
      "\u001b[1;31mKeyError\u001b[0m: 8"
     ]
    }
   ],
   "source": [
    "import pandas as pd\n",
    "df = pd.read_csv('links.csv')\n",
    "df[8]"
   ]
  },
  {
   "cell_type": "code",
   "execution_count": null,
   "id": "004170da",
   "metadata": {},
   "outputs": [],
   "source": [
    "block3raw = browser.find_element(By.CLASS_NAME,'styles_group__aota8').text\n",
    "block3raw[block3raw]\n"
   ]
  }
 ],
 "metadata": {
  "kernelspec": {
   "display_name": "base",
   "language": "python",
   "name": "python3"
  },
  "language_info": {
   "codemirror_mode": {
    "name": "ipython",
    "version": 3
   },
   "file_extension": ".py",
   "mimetype": "text/x-python",
   "name": "python",
   "nbconvert_exporter": "python",
   "pygments_lexer": "ipython3",
   "version": "3.12.7"
  }
 },
 "nbformat": 4,
 "nbformat_minor": 5
}
