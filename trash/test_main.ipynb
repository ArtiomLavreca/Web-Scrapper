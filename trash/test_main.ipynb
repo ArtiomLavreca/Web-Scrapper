{
 "cells": [
  {
   "cell_type": "markdown",
   "id": "451491e9",
   "metadata": {},
   "source": [
    "Libraries"
   ]
  },
  {
   "cell_type": "code",
   "execution_count": null,
   "id": "a905ce7e-9988-4aee-ab99-b06644356e83",
   "metadata": {},
   "outputs": [],
   "source": [
    "from selenium.webdriver import Chrome\n",
    "from selenium.webdriver.common.keys import Keys\n",
    "from selenium.webdriver.support.ui import WebDriverWait as wait\n",
    "from selenium.webdriver.support import expected_conditions as EC\n",
    "from selenium.common.exceptions import NoSuchElementException\n",
    "from bs4 import BeautifulSoup\n",
    "from time import sleep\n",
    "from tqdm import tqdm\n",
    "from selenium import webdriver\n",
    "from selenium.webdriver.chrome.service import Service \n",
    "from selenium.webdriver.common.by import By\n",
    "\n",
    "\n",
    "import csv\n",
    "import pandas as pd\n"
   ]
  },
  {
   "cell_type": "markdown",
   "id": "e896d923",
   "metadata": {},
   "source": [
    "Open the local host chrome and render the website"
   ]
  },
  {
   "cell_type": "code",
   "execution_count": 2,
   "id": "885f7b7c-6fdd-4941-8334-ba8fcf8b1e76",
   "metadata": {},
   "outputs": [],
   "source": [
    "service = Service(executable_path='chromedriver.exe')\n",
    "browser = webdriver.Chrome(service=service)\n",
    "url = 'https://999.md/ro/list/real-estate/apartments-and-rooms?view_type=short&appl=1&ef=16,6,2307,2200&eo=13859,12885,12900,12912&o_16_1=776&o_32_8_12900=13859'\n",
    "browser.get(url)"
   ]
  },
  {
   "cell_type": "markdown",
   "id": "1d9856a7",
   "metadata": {},
   "source": [
    "Find the block with offers,where ads are is the list of offers"
   ]
  },
  {
   "cell_type": "code",
   "execution_count": 3,
   "id": "389f4436-df39-4767-a17d-60071782e3a3",
   "metadata": {},
   "outputs": [],
   "source": [
    "block = browser.find_element(By.XPATH,'/html/body/div[2]/div/div/div[2]/div/div[2]')\n",
    "ads = block.find_elements(By.CLASS_NAME,'AdShort_wrapper__S8kqq')\n"
   ]
  },
  {
   "cell_type": "code",
   "execution_count": null,
   "id": "f17f4101",
   "metadata": {},
   "outputs": [],
   "source": [
    "data = {}\n",
    "adid = 0\n",
    "for ad in ads:\n",
    "    adlink = ad.find_element(By.CSS_SELECTOR, \"a.AdShort_title__link__EnVP9\").get_attribute(\"href\") \n",
    "    adData = adlink\n",
    "    data.update({adid : adData})\n",
    "    adid = adid + 1\n",
    "print(len(data))\n",
    "data"
   ]
  },
  {
   "cell_type": "markdown",
   "id": "f790f21d",
   "metadata": {},
   "source": [
    "Imports gathered links from dict data into csv file"
   ]
  },
  {
   "cell_type": "code",
   "execution_count": null,
   "id": "c6c0fce7",
   "metadata": {},
   "outputs": [],
   "source": [
    "\n",
    "with open(\"links.csv\", mode=\"w\", encoding=\"utf-8\", newline=\"\") as f:\n",
    "    writer = csv.writer(f)\n",
    "    writer.writerow(['links'])\n",
    "\n",
    "    for link in data.values():\n",
    "        writer.writerow([link])\n"
   ]
  },
  {
   "cell_type": "code",
   "execution_count": null,
   "id": "f4090073",
   "metadata": {},
   "outputs": [],
   "source": [
    "\n",
    "df = pd.read_csv('links.csv')\n",
    "df"
   ]
  },
  {
   "cell_type": "code",
   "execution_count": null,
   "id": "f14ae789",
   "metadata": {},
   "outputs": [],
   "source": [
    "\n",
    "button_next = browser.find_element(By.CLASS_NAME,'Pagination_pagination__container__buttons__wrapper__icon__next__A22Rc')\n",
    "button_next.click()\n",
    "print(browser.current_url)"
   ]
  },
  {
   "cell_type": "code",
   "execution_count": null,
   "id": "6df99f6b",
   "metadata": {},
   "outputs": [],
   "source": [
    "button_back = browser.find_element(By.CLASS_NAME,'Pagination_pagination__container__buttons__wrapper__icon__previous__njSYV')\n",
    "button_back.click()\n",
    "print(browser.current_url)"
   ]
  },
  {
   "cell_type": "code",
   "execution_count": null,
   "id": "16d9c26a",
   "metadata": {},
   "outputs": [],
   "source": [
    "def WebSiteRender():\n",
    "    pass"
   ]
  },
  {
   "cell_type": "code",
   "execution_count": null,
   "id": "0e34d775",
   "metadata": {},
   "outputs": [],
   "source": [
    "def pageLinksExtractor(link):\n",
    "\n",
    "    global browser\n",
    "    page = browser.current_url\n",
    "    adsblock = browser.find_element(By.XPATH,'/html/body/div[2]/div/div/div[2]/div/div[2]')\n",
    "    adlist = adsblock.find_elements(By.CLASS_NAME,'AdShort_wrapper__S8kqq')\n",
    "    data = {}\n",
    "    adid = 0\n",
    "    for ad in ads:\n",
    "        adlink = ad.find_element(By.CSS_SELECTOR, \"a.AdShort_title__link__EnVP9\").get_attribute(\"href\") \n",
    "        adData = adlink\n",
    "        data.update({adid : adData})\n",
    "        adid = adid + 1\n",
    "        \n",
    "    \n",
    "    if 'page=' in page:\n",
    "        index = page[-1]\n",
    "    else:\n",
    "        index = '1'\n",
    "    file_path = f\"links pages/page{index}.csv\"\n",
    "\n",
    "    with open(file_path, mode=\"w\", encoding=\"utf-8\", newline=\"\") as f:\n",
    "        writer = csv.writer(f)\n",
    "        writer.writerow(['links'])\n",
    "\n",
    "        for link in data.values():\n",
    "            writer.writerow([link])"
   ]
  },
  {
   "cell_type": "code",
   "execution_count": null,
   "id": "1aba9228",
   "metadata": {},
   "outputs": [],
   "source": [
    "\n",
    "page = browser.current_url\n",
    "print(page)\n",
    "pageLinksExtractor(page)"
   ]
  },
  {
   "cell_type": "code",
   "execution_count": 8,
   "id": "8af30fba",
   "metadata": {},
   "outputs": [],
   "source": [
    "setpage = 'https://999.md/ro/list/real-estate/apartments-and-rooms?view_type=short&appl=1&ef=16%2C6%2C2307%2C2200&eo=13859%2C12885%2C12900%2C12912&o_16_1=776&o_32_8_12900=13859'"
   ]
  },
  {
   "cell_type": "code",
   "execution_count": null,
   "id": "2df85f61",
   "metadata": {},
   "outputs": [
    {
     "ename": "NoSuchElementException",
     "evalue": "Message: no such element: Unable to locate element: {\"method\":\"css selector\",\"selector\":\".Pagination_pagination__container__buttons__wrapper__icon__last__page__84ROu\"}\n  (Session info: chrome=138.0.7204.97); For documentation on this error, please visit: https://www.selenium.dev/documentation/webdriver/troubleshooting/errors#no-such-element-exception\nStacktrace:\n\tGetHandleVerifier [0x0x7ff74891cda5+78885]\n\tGetHandleVerifier [0x0x7ff74891ce00+78976]\n\t(No symbol) [0x0x7ff7486d9bca]\n\t(No symbol) [0x0x7ff748730766]\n\t(No symbol) [0x0x7ff748730a1c]\n\t(No symbol) [0x0x7ff748784467]\n\t(No symbol) [0x0x7ff748758bcf]\n\t(No symbol) [0x0x7ff74878122f]\n\t(No symbol) [0x0x7ff748758963]\n\t(No symbol) [0x0x7ff7487216b1]\n\t(No symbol) [0x0x7ff748722443]\n\tGetHandleVerifier [0x0x7ff748bf4eed+3061101]\n\tGetHandleVerifier [0x0x7ff748bef33d+3037629]\n\tGetHandleVerifier [0x0x7ff748c0e592+3165202]\n\tGetHandleVerifier [0x0x7ff74893730e+186766]\n\tGetHandleVerifier [0x0x7ff74893eb3f+217535]\n\tGetHandleVerifier [0x0x7ff7489259b4+114740]\n\tGetHandleVerifier [0x0x7ff748925b69+115177]\n\tGetHandleVerifier [0x0x7ff74890c368+10728]\n\tBaseThreadInitThunk [0x0x7ffe403e259d+29]\n\tRtlUserThreadStart [0x0x7ffe41b6af78+40]\n",
     "output_type": "error",
     "traceback": [
      "\u001b[1;31m---------------------------------------------------------------------------\u001b[0m",
      "\u001b[1;31mNoSuchElementException\u001b[0m                    Traceback (most recent call last)",
      "Cell \u001b[1;32mIn[10], line 1\u001b[0m\n\u001b[1;32m----> 1\u001b[0m lastpage \u001b[38;5;241m=\u001b[39m browser\u001b[38;5;241m.\u001b[39mfind_element(By\u001b[38;5;241m.\u001b[39mCLASS_NAME,\u001b[38;5;124m'\u001b[39m\u001b[38;5;124mPagination_pagination__container__buttons__wrapper__icon__last__page__84ROu\u001b[39m\u001b[38;5;124m'\u001b[39m)\n\u001b[0;32m      2\u001b[0m lastpage\u001b[38;5;241m.\u001b[39mclick()\n\u001b[0;32m      3\u001b[0m \u001b[38;5;28mprint\u001b[39m(browser\u001b[38;5;241m.\u001b[39mcurrent_url)\n",
      "File \u001b[1;32m~\\AppData\\Roaming\\Python\\Python312\\site-packages\\selenium\\webdriver\\remote\\webdriver.py:914\u001b[0m, in \u001b[0;36mWebDriver.find_element\u001b[1;34m(self, by, value)\u001b[0m\n\u001b[0;32m    911\u001b[0m         \u001b[38;5;28;01mraise\u001b[39;00m NoSuchElementException(\u001b[38;5;124mf\u001b[39m\u001b[38;5;124m\"\u001b[39m\u001b[38;5;124mCannot locate relative element with: \u001b[39m\u001b[38;5;132;01m{\u001b[39;00mby\u001b[38;5;241m.\u001b[39mroot\u001b[38;5;132;01m}\u001b[39;00m\u001b[38;5;124m\"\u001b[39m)\n\u001b[0;32m    912\u001b[0m     \u001b[38;5;28;01mreturn\u001b[39;00m elements[\u001b[38;5;241m0\u001b[39m]\n\u001b[1;32m--> 914\u001b[0m \u001b[38;5;28;01mreturn\u001b[39;00m \u001b[38;5;28mself\u001b[39m\u001b[38;5;241m.\u001b[39mexecute(Command\u001b[38;5;241m.\u001b[39mFIND_ELEMENT, {\u001b[38;5;124m\"\u001b[39m\u001b[38;5;124musing\u001b[39m\u001b[38;5;124m\"\u001b[39m: by, \u001b[38;5;124m\"\u001b[39m\u001b[38;5;124mvalue\u001b[39m\u001b[38;5;124m\"\u001b[39m: value})[\u001b[38;5;124m\"\u001b[39m\u001b[38;5;124mvalue\u001b[39m\u001b[38;5;124m\"\u001b[39m]\n",
      "File \u001b[1;32m~\\AppData\\Roaming\\Python\\Python312\\site-packages\\selenium\\webdriver\\remote\\webdriver.py:447\u001b[0m, in \u001b[0;36mWebDriver.execute\u001b[1;34m(self, driver_command, params)\u001b[0m\n\u001b[0;32m    445\u001b[0m response \u001b[38;5;241m=\u001b[39m \u001b[38;5;28mself\u001b[39m\u001b[38;5;241m.\u001b[39mcommand_executor\u001b[38;5;241m.\u001b[39mexecute(driver_command, params)\n\u001b[0;32m    446\u001b[0m \u001b[38;5;28;01mif\u001b[39;00m response:\n\u001b[1;32m--> 447\u001b[0m     \u001b[38;5;28mself\u001b[39m\u001b[38;5;241m.\u001b[39merror_handler\u001b[38;5;241m.\u001b[39mcheck_response(response)\n\u001b[0;32m    448\u001b[0m     response[\u001b[38;5;124m\"\u001b[39m\u001b[38;5;124mvalue\u001b[39m\u001b[38;5;124m\"\u001b[39m] \u001b[38;5;241m=\u001b[39m \u001b[38;5;28mself\u001b[39m\u001b[38;5;241m.\u001b[39m_unwrap_value(response\u001b[38;5;241m.\u001b[39mget(\u001b[38;5;124m\"\u001b[39m\u001b[38;5;124mvalue\u001b[39m\u001b[38;5;124m\"\u001b[39m, \u001b[38;5;28;01mNone\u001b[39;00m))\n\u001b[0;32m    449\u001b[0m     \u001b[38;5;28;01mreturn\u001b[39;00m response\n",
      "File \u001b[1;32m~\\AppData\\Roaming\\Python\\Python312\\site-packages\\selenium\\webdriver\\remote\\errorhandler.py:232\u001b[0m, in \u001b[0;36mErrorHandler.check_response\u001b[1;34m(self, response)\u001b[0m\n\u001b[0;32m    230\u001b[0m         alert_text \u001b[38;5;241m=\u001b[39m value[\u001b[38;5;124m\"\u001b[39m\u001b[38;5;124malert\u001b[39m\u001b[38;5;124m\"\u001b[39m]\u001b[38;5;241m.\u001b[39mget(\u001b[38;5;124m\"\u001b[39m\u001b[38;5;124mtext\u001b[39m\u001b[38;5;124m\"\u001b[39m)\n\u001b[0;32m    231\u001b[0m     \u001b[38;5;28;01mraise\u001b[39;00m exception_class(message, screen, stacktrace, alert_text)  \u001b[38;5;66;03m# type: ignore[call-arg]  # mypy is not smart enough here\u001b[39;00m\n\u001b[1;32m--> 232\u001b[0m \u001b[38;5;28;01mraise\u001b[39;00m exception_class(message, screen, stacktrace)\n",
      "\u001b[1;31mNoSuchElementException\u001b[0m: Message: no such element: Unable to locate element: {\"method\":\"css selector\",\"selector\":\".Pagination_pagination__container__buttons__wrapper__icon__last__page__84ROu\"}\n  (Session info: chrome=138.0.7204.97); For documentation on this error, please visit: https://www.selenium.dev/documentation/webdriver/troubleshooting/errors#no-such-element-exception\nStacktrace:\n\tGetHandleVerifier [0x0x7ff74891cda5+78885]\n\tGetHandleVerifier [0x0x7ff74891ce00+78976]\n\t(No symbol) [0x0x7ff7486d9bca]\n\t(No symbol) [0x0x7ff748730766]\n\t(No symbol) [0x0x7ff748730a1c]\n\t(No symbol) [0x0x7ff748784467]\n\t(No symbol) [0x0x7ff748758bcf]\n\t(No symbol) [0x0x7ff74878122f]\n\t(No symbol) [0x0x7ff748758963]\n\t(No symbol) [0x0x7ff7487216b1]\n\t(No symbol) [0x0x7ff748722443]\n\tGetHandleVerifier [0x0x7ff748bf4eed+3061101]\n\tGetHandleVerifier [0x0x7ff748bef33d+3037629]\n\tGetHandleVerifier [0x0x7ff748c0e592+3165202]\n\tGetHandleVerifier [0x0x7ff74893730e+186766]\n\tGetHandleVerifier [0x0x7ff74893eb3f+217535]\n\tGetHandleVerifier [0x0x7ff7489259b4+114740]\n\tGetHandleVerifier [0x0x7ff748925b69+115177]\n\tGetHandleVerifier [0x0x7ff74890c368+10728]\n\tBaseThreadInitThunk [0x0x7ffe403e259d+29]\n\tRtlUserThreadStart [0x0x7ffe41b6af78+40]\n"
     ]
    }
   ],
   "source": [
    "lastpage = browser.find_element(By.CLASS_NAME,'Pagination_pagination__container__buttons__wrapper__icon__last__page__84ROu')\n",
    "lastpage.click()\n",
    "print(browser.current_url)\n",
    "#browser.find_element(By.CLASS_NAME,'Pagination_pagination__container__buttons__wrapper__button__PeVvM Pagination_active__BzFMR').text"
   ]
  },
  {
   "cell_type": "code",
   "execution_count": 9,
   "id": "53b93f2f",
   "metadata": {},
   "outputs": [
    {
     "name": "stdout",
     "output_type": "stream",
     "text": [
      "217\n"
     ]
    }
   ],
   "source": [
    "url = 'https://999.md/ro/list/real-estate/apartments-and-rooms?view_type=short&appl=1&ef=16%2C6%2C2307%2C2200&eo=13859%2C12885%2C12900%2C12912&o_16_1=776&o_32_8_12900=13859&page=217'\n",
    "pagenumberindex = url.index('page=') \n",
    "print(url[pagenumberindex:].replace('page=',''))"
   ]
  },
  {
   "cell_type": "code",
   "execution_count": null,
   "id": "6502b15d",
   "metadata": {},
   "outputs": [],
   "source": [
    "browser.quit()"
   ]
  }
 ],
 "metadata": {
  "kernelspec": {
   "display_name": "base",
   "language": "python",
   "name": "python3"
  },
  "language_info": {
   "codemirror_mode": {
    "name": "ipython",
    "version": 3
   },
   "file_extension": ".py",
   "mimetype": "text/x-python",
   "name": "python",
   "nbconvert_exporter": "python",
   "pygments_lexer": "ipython3",
   "version": "3.12.7"
  }
 },
 "nbformat": 4,
 "nbformat_minor": 5
}
